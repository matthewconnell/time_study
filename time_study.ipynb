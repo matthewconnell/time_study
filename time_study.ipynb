{
 "cells": [
  {
   "cell_type": "code",
   "execution_count": 71,
   "metadata": {},
   "outputs": [],
   "source": [
    "import time\n",
    "import pandas as pd\n",
    "import numpy as np\n",
    "import random\n",
    "\n",
    "import altair as alt"
   ]
  },
  {
   "cell_type": "code",
   "execution_count": 4,
   "metadata": {},
   "outputs": [],
   "source": []
  },
  {
   "cell_type": "code",
   "execution_count": 5,
   "metadata": {},
   "outputs": [],
   "source": []
  },
  {
   "cell_type": "code",
   "execution_count": 12,
   "metadata": {},
   "outputs": [],
   "source": [
    "start_time = begin()"
   ]
  },
  {
   "cell_type": "code",
   "execution_count": 13,
   "metadata": {},
   "outputs": [],
   "source": [
    "end_time = end()"
   ]
  },
  {
   "cell_type": "code",
   "execution_count": 15,
   "metadata": {},
   "outputs": [
    {
     "data": {
      "text/plain": [
       "2.9826407432556152"
      ]
     },
     "execution_count": 15,
     "metadata": {},
     "output_type": "execute_result"
    }
   ],
   "source": [
    "duration = end_time - start_time\n",
    "duration"
   ]
  },
  {
   "cell_type": "code",
   "execution_count": 61,
   "metadata": {},
   "outputs": [],
   "source": [
    "class Observation():\n",
    "    \n",
    "    def __init__(self, name, task):\n",
    "        self.self = self\n",
    "        self.name = name\n",
    "        self.task = task\n",
    "    \n",
    "    def begin(self):\n",
    "    \n",
    "        self.start_time = time.time()\n",
    "        \n",
    "    def end(self):\n",
    "    \n",
    "        self.end_time = time.time()\n",
    "        self.duration = self.end_time - self.start_time\n",
    "        \n",
    "    def get_mean(self, times):\n",
    "        \n",
    "        self.avg = np.mean(times)"
   ]
  },
  {
   "cell_type": "code",
   "execution_count": 63,
   "metadata": {},
   "outputs": [],
   "source": [
    "test = Observation('Steve', 'Step1')\n",
    "times = []\n",
    "\n",
    "for i in range(10):\n",
    "    \n",
    "    test.begin()\n",
    "    time.sleep(2 * random.random())\n",
    "    test.end()\n",
    "    times.append(test.duration)\n"
   ]
  },
  {
   "cell_type": "code",
   "execution_count": 69,
   "metadata": {},
   "outputs": [],
   "source": [
    "test.get_mean(times)"
   ]
  },
  {
   "cell_type": "code",
   "execution_count": 68,
   "metadata": {},
   "outputs": [],
   "source": []
  },
  {
   "cell_type": "code",
   "execution_count": 65,
   "metadata": {},
   "outputs": [],
   "source": [
    "# times"
   ]
  },
  {
   "cell_type": "code",
   "execution_count": 78,
   "metadata": {},
   "outputs": [
    {
     "data": {
      "text/html": [
       "<div>\n",
       "<style scoped>\n",
       "    .dataframe tbody tr th:only-of-type {\n",
       "        vertical-align: middle;\n",
       "    }\n",
       "\n",
       "    .dataframe tbody tr th {\n",
       "        vertical-align: top;\n",
       "    }\n",
       "\n",
       "    .dataframe thead th {\n",
       "        text-align: right;\n",
       "    }\n",
       "</style>\n",
       "<table border=\"1\" class=\"dataframe\">\n",
       "  <thead>\n",
       "    <tr style=\"text-align: right;\">\n",
       "      <th></th>\n",
       "      <th>index</th>\n",
       "      <th>time</th>\n",
       "      <th>name</th>\n",
       "      <th>task</th>\n",
       "      <th>mean</th>\n",
       "    </tr>\n",
       "  </thead>\n",
       "  <tbody>\n",
       "    <tr>\n",
       "      <th>0</th>\n",
       "      <td>0</td>\n",
       "      <td>1.724474</td>\n",
       "      <td>Steve</td>\n",
       "      <td>Step1</td>\n",
       "      <td>0.666385</td>\n",
       "    </tr>\n",
       "    <tr>\n",
       "      <th>1</th>\n",
       "      <td>1</td>\n",
       "      <td>0.884545</td>\n",
       "      <td>Steve</td>\n",
       "      <td>Step1</td>\n",
       "      <td>0.666385</td>\n",
       "    </tr>\n",
       "    <tr>\n",
       "      <th>2</th>\n",
       "      <td>2</td>\n",
       "      <td>0.427048</td>\n",
       "      <td>Steve</td>\n",
       "      <td>Step1</td>\n",
       "      <td>0.666385</td>\n",
       "    </tr>\n",
       "    <tr>\n",
       "      <th>3</th>\n",
       "      <td>3</td>\n",
       "      <td>1.532977</td>\n",
       "      <td>Steve</td>\n",
       "      <td>Step1</td>\n",
       "      <td>0.666385</td>\n",
       "    </tr>\n",
       "    <tr>\n",
       "      <th>4</th>\n",
       "      <td>4</td>\n",
       "      <td>0.066340</td>\n",
       "      <td>Steve</td>\n",
       "      <td>Step1</td>\n",
       "      <td>0.666385</td>\n",
       "    </tr>\n",
       "    <tr>\n",
       "      <th>5</th>\n",
       "      <td>5</td>\n",
       "      <td>0.260187</td>\n",
       "      <td>Steve</td>\n",
       "      <td>Step1</td>\n",
       "      <td>0.666385</td>\n",
       "    </tr>\n",
       "    <tr>\n",
       "      <th>6</th>\n",
       "      <td>6</td>\n",
       "      <td>0.707831</td>\n",
       "      <td>Steve</td>\n",
       "      <td>Step1</td>\n",
       "      <td>0.666385</td>\n",
       "    </tr>\n",
       "    <tr>\n",
       "      <th>7</th>\n",
       "      <td>7</td>\n",
       "      <td>0.932507</td>\n",
       "      <td>Steve</td>\n",
       "      <td>Step1</td>\n",
       "      <td>0.666385</td>\n",
       "    </tr>\n",
       "    <tr>\n",
       "      <th>8</th>\n",
       "      <td>8</td>\n",
       "      <td>0.121939</td>\n",
       "      <td>Steve</td>\n",
       "      <td>Step1</td>\n",
       "      <td>0.666385</td>\n",
       "    </tr>\n",
       "    <tr>\n",
       "      <th>9</th>\n",
       "      <td>9</td>\n",
       "      <td>0.006002</td>\n",
       "      <td>Steve</td>\n",
       "      <td>Step1</td>\n",
       "      <td>0.666385</td>\n",
       "    </tr>\n",
       "  </tbody>\n",
       "</table>\n",
       "</div>"
      ],
      "text/plain": [
       "   index      time   name   task      mean\n",
       "0      0  1.724474  Steve  Step1  0.666385\n",
       "1      1  0.884545  Steve  Step1  0.666385\n",
       "2      2  0.427048  Steve  Step1  0.666385\n",
       "3      3  1.532977  Steve  Step1  0.666385\n",
       "4      4  0.066340  Steve  Step1  0.666385\n",
       "5      5  0.260187  Steve  Step1  0.666385\n",
       "6      6  0.707831  Steve  Step1  0.666385\n",
       "7      7  0.932507  Steve  Step1  0.666385\n",
       "8      8  0.121939  Steve  Step1  0.666385\n",
       "9      9  0.006002  Steve  Step1  0.666385"
      ]
     },
     "execution_count": 78,
     "metadata": {},
     "output_type": "execute_result"
    }
   ],
   "source": [
    "df = pd.DataFrame({\n",
    "    \"time\": times,\n",
    "    \"name\": test.name,\n",
    "    'task': test.task,\n",
    "    'mean': test.avg\n",
    "}).reset_index()\n",
    "\n",
    "df"
   ]
  },
  {
   "cell_type": "code",
   "execution_count": 81,
   "metadata": {},
   "outputs": [
    {
     "data": {
      "text/html": [
       "\n",
       "<div id=\"altair-viz-923b0c8a007a443c9f387f60df51bd90\"></div>\n",
       "<script type=\"text/javascript\">\n",
       "  (function(spec, embedOpt){\n",
       "    let outputDiv = document.currentScript.previousElementSibling;\n",
       "    if (outputDiv.id !== \"altair-viz-923b0c8a007a443c9f387f60df51bd90\") {\n",
       "      outputDiv = document.getElementById(\"altair-viz-923b0c8a007a443c9f387f60df51bd90\");\n",
       "    }\n",
       "    const paths = {\n",
       "      \"vega\": \"https://cdn.jsdelivr.net/npm//vega@5?noext\",\n",
       "      \"vega-lib\": \"https://cdn.jsdelivr.net/npm//vega-lib?noext\",\n",
       "      \"vega-lite\": \"https://cdn.jsdelivr.net/npm//vega-lite@4.8.1?noext\",\n",
       "      \"vega-embed\": \"https://cdn.jsdelivr.net/npm//vega-embed@6?noext\",\n",
       "    };\n",
       "\n",
       "    function loadScript(lib) {\n",
       "      return new Promise(function(resolve, reject) {\n",
       "        var s = document.createElement('script');\n",
       "        s.src = paths[lib];\n",
       "        s.async = true;\n",
       "        s.onload = () => resolve(paths[lib]);\n",
       "        s.onerror = () => reject(`Error loading script: ${paths[lib]}`);\n",
       "        document.getElementsByTagName(\"head\")[0].appendChild(s);\n",
       "      });\n",
       "    }\n",
       "\n",
       "    function showError(err) {\n",
       "      outputDiv.innerHTML = `<div class=\"error\" style=\"color:red;\">${err}</div>`;\n",
       "      throw err;\n",
       "    }\n",
       "\n",
       "    function displayChart(vegaEmbed) {\n",
       "      vegaEmbed(outputDiv, spec, embedOpt)\n",
       "        .catch(err => showError(`Javascript Error: ${err.message}<br>This usually means there's a typo in your chart specification. See the javascript console for the full traceback.`));\n",
       "    }\n",
       "\n",
       "    if(typeof define === \"function\" && define.amd) {\n",
       "      requirejs.config({paths});\n",
       "      require([\"vega-embed\"], displayChart, err => showError(`Error loading script: ${err.message}`));\n",
       "    } else if (typeof vegaEmbed === \"function\") {\n",
       "      displayChart(vegaEmbed);\n",
       "    } else {\n",
       "      loadScript(\"vega\")\n",
       "        .then(() => loadScript(\"vega-lite\"))\n",
       "        .then(() => loadScript(\"vega-embed\"))\n",
       "        .catch(showError)\n",
       "        .then(() => displayChart(vegaEmbed));\n",
       "    }\n",
       "  })({\"config\": {\"view\": {\"continuousWidth\": 400, \"continuousHeight\": 300}}, \"data\": {\"name\": \"data-5926a4568a6a69c50c33dd56849381aa\"}, \"mark\": \"line\", \"encoding\": {\"x\": {\"type\": \"quantitative\", \"field\": \"index\"}, \"y\": {\"type\": \"quantitative\", \"field\": \"time\"}}, \"$schema\": \"https://vega.github.io/schema/vega-lite/v4.8.1.json\", \"datasets\": {\"data-5926a4568a6a69c50c33dd56849381aa\": [{\"index\": 0, \"time\": 1.7244741916656494, \"name\": \"Steve\", \"task\": \"Step1\", \"mean\": 0.6663850545883179}, {\"index\": 1, \"time\": 0.884545087814331, \"name\": \"Steve\", \"task\": \"Step1\", \"mean\": 0.6663850545883179}, {\"index\": 2, \"time\": 0.4270482063293457, \"name\": \"Steve\", \"task\": \"Step1\", \"mean\": 0.6663850545883179}, {\"index\": 3, \"time\": 1.5329768657684326, \"name\": \"Steve\", \"task\": \"Step1\", \"mean\": 0.6663850545883179}, {\"index\": 4, \"time\": 0.06634020805358887, \"name\": \"Steve\", \"task\": \"Step1\", \"mean\": 0.6663850545883179}, {\"index\": 5, \"time\": 0.26018714904785156, \"name\": \"Steve\", \"task\": \"Step1\", \"mean\": 0.6663850545883179}, {\"index\": 6, \"time\": 0.7078309059143066, \"name\": \"Steve\", \"task\": \"Step1\", \"mean\": 0.6663850545883179}, {\"index\": 7, \"time\": 0.9325072765350342, \"name\": \"Steve\", \"task\": \"Step1\", \"mean\": 0.6663850545883179}, {\"index\": 8, \"time\": 0.12193894386291504, \"name\": \"Steve\", \"task\": \"Step1\", \"mean\": 0.6663850545883179}, {\"index\": 9, \"time\": 0.006001710891723633, \"name\": \"Steve\", \"task\": \"Step1\", \"mean\": 0.6663850545883179}]}}, {\"mode\": \"vega-lite\"});\n",
       "</script>"
      ],
      "text/plain": [
       "alt.Chart(...)"
      ]
     },
     "execution_count": 81,
     "metadata": {},
     "output_type": "execute_result"
    }
   ],
   "source": [
    "alt.Chart(df).mark_line().encode(\n",
    "    x = alt.X('index'),\n",
    "    y = alt.Y('time')\n",
    "    ## Add a line for the mean\n",
    "    ## Add a label for the worker and/or the task\n",
    ")"
   ]
  },
  {
   "cell_type": "code",
   "execution_count": null,
   "metadata": {},
   "outputs": [],
   "source": []
  }
 ],
 "metadata": {
  "kernelspec": {
   "display_name": "Python 3",
   "language": "python",
   "name": "python3"
  },
  "language_info": {
   "codemirror_mode": {
    "name": "ipython",
    "version": 3
   },
   "file_extension": ".py",
   "mimetype": "text/x-python",
   "name": "python",
   "nbconvert_exporter": "python",
   "pygments_lexer": "ipython3",
   "version": "3.7.6"
  }
 },
 "nbformat": 4,
 "nbformat_minor": 4
}

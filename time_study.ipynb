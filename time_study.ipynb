{
 "cells": [
  {
   "cell_type": "code",
   "execution_count": 71,
   "metadata": {},
   "outputs": [],
   "source": [
    "import time\n",
    "import pandas as pd\n",
    "import numpy as np\n",
    "import random\n",
    "\n",
    "import altair as alt"
   ]
  },
  {
   "cell_type": "code",
   "execution_count": 4,
   "metadata": {},
   "outputs": [],
   "source": []
  },
  {
   "cell_type": "code",
   "execution_count": 5,
   "metadata": {},
   "outputs": [],
   "source": []
  },
  {
   "cell_type": "code",
   "execution_count": 12,
   "metadata": {},
   "outputs": [],
   "source": [
    "start_time = begin()"
   ]
  },
  {
   "cell_type": "code",
   "execution_count": 13,
   "metadata": {},
   "outputs": [],
   "source": [
    "end_time = end()"
   ]
  },
  {
   "cell_type": "code",
   "execution_count": 15,
   "metadata": {},
   "outputs": [
    {
     "data": {
      "text/plain": [
       "2.9826407432556152"
      ]
     },
     "execution_count": 15,
     "metadata": {},
     "output_type": "execute_result"
    }
   ],
   "source": [
    "duration = end_time - start_time\n",
    "duration"
   ]
  },
  {
   "cell_type": "code",
   "execution_count": 61,
   "metadata": {},
   "outputs": [],
   "source": [
    "class Observation():\n",
    "    \n",
    "    def __init__(self, name, task):\n",
    "        self.self = self\n",
    "        self.name = name\n",
    "        self.task = task\n",
    "    \n",
    "    def begin(self):\n",
    "    \n",
    "        self.start_time = time.time()\n",
    "        \n",
    "    def end(self):\n",
    "    \n",
    "        self.end_time = time.time()\n",
    "        self.duration = self.end_time - self.start_time\n",
    "        \n",
    "    def get_mean(self, times):\n",
    "        \n",
    "        self.avg = np.mean(times)"
   ]
  },
  {
   "cell_type": "code",
   "execution_count": 63,
   "metadata": {},
   "outputs": [],
   "source": [
    "test = Observation('Steve', 'Step1')\n",
    "times = []\n",
    "\n",
    "for i in range(10):\n",
    "    \n",
    "    test.begin()\n",
    "    time.sleep(2 * random.random())\n",
    "    test.end()\n",
    "    times.append(test.duration)\n"
   ]
  },
  {
   "cell_type": "code",
   "execution_count": 69,
   "metadata": {},
   "outputs": [],
   "source": [
    "test.get_mean(times)"
   ]
  },
  {
   "cell_type": "code",
   "execution_count": 68,
   "metadata": {},
   "outputs": [],
   "source": []
  },
  {
   "cell_type": "code",
   "execution_count": 65,
   "metadata": {},
   "outputs": [],
   "source": [
    "# times"
   ]
  },
  {
   "cell_type": "code",
   "execution_count": 70,
   "metadata": {},
   "outputs": [
    {
     "data": {
      "text/html": [
       "<div>\n",
       "<style scoped>\n",
       "    .dataframe tbody tr th:only-of-type {\n",
       "        vertical-align: middle;\n",
       "    }\n",
       "\n",
       "    .dataframe tbody tr th {\n",
       "        vertical-align: top;\n",
       "    }\n",
       "\n",
       "    .dataframe thead th {\n",
       "        text-align: right;\n",
       "    }\n",
       "</style>\n",
       "<table border=\"1\" class=\"dataframe\">\n",
       "  <thead>\n",
       "    <tr style=\"text-align: right;\">\n",
       "      <th></th>\n",
       "      <th>time</th>\n",
       "      <th>name</th>\n",
       "      <th>task</th>\n",
       "      <th>mean</th>\n",
       "    </tr>\n",
       "  </thead>\n",
       "  <tbody>\n",
       "    <tr>\n",
       "      <th>0</th>\n",
       "      <td>1.724474</td>\n",
       "      <td>Steve</td>\n",
       "      <td>Step1</td>\n",
       "      <td>0.666385</td>\n",
       "    </tr>\n",
       "    <tr>\n",
       "      <th>1</th>\n",
       "      <td>0.884545</td>\n",
       "      <td>Steve</td>\n",
       "      <td>Step1</td>\n",
       "      <td>0.666385</td>\n",
       "    </tr>\n",
       "    <tr>\n",
       "      <th>2</th>\n",
       "      <td>0.427048</td>\n",
       "      <td>Steve</td>\n",
       "      <td>Step1</td>\n",
       "      <td>0.666385</td>\n",
       "    </tr>\n",
       "    <tr>\n",
       "      <th>3</th>\n",
       "      <td>1.532977</td>\n",
       "      <td>Steve</td>\n",
       "      <td>Step1</td>\n",
       "      <td>0.666385</td>\n",
       "    </tr>\n",
       "    <tr>\n",
       "      <th>4</th>\n",
       "      <td>0.066340</td>\n",
       "      <td>Steve</td>\n",
       "      <td>Step1</td>\n",
       "      <td>0.666385</td>\n",
       "    </tr>\n",
       "    <tr>\n",
       "      <th>5</th>\n",
       "      <td>0.260187</td>\n",
       "      <td>Steve</td>\n",
       "      <td>Step1</td>\n",
       "      <td>0.666385</td>\n",
       "    </tr>\n",
       "    <tr>\n",
       "      <th>6</th>\n",
       "      <td>0.707831</td>\n",
       "      <td>Steve</td>\n",
       "      <td>Step1</td>\n",
       "      <td>0.666385</td>\n",
       "    </tr>\n",
       "    <tr>\n",
       "      <th>7</th>\n",
       "      <td>0.932507</td>\n",
       "      <td>Steve</td>\n",
       "      <td>Step1</td>\n",
       "      <td>0.666385</td>\n",
       "    </tr>\n",
       "    <tr>\n",
       "      <th>8</th>\n",
       "      <td>0.121939</td>\n",
       "      <td>Steve</td>\n",
       "      <td>Step1</td>\n",
       "      <td>0.666385</td>\n",
       "    </tr>\n",
       "    <tr>\n",
       "      <th>9</th>\n",
       "      <td>0.006002</td>\n",
       "      <td>Steve</td>\n",
       "      <td>Step1</td>\n",
       "      <td>0.666385</td>\n",
       "    </tr>\n",
       "  </tbody>\n",
       "</table>\n",
       "</div>"
      ],
      "text/plain": [
       "       time   name   task      mean\n",
       "0  1.724474  Steve  Step1  0.666385\n",
       "1  0.884545  Steve  Step1  0.666385\n",
       "2  0.427048  Steve  Step1  0.666385\n",
       "3  1.532977  Steve  Step1  0.666385\n",
       "4  0.066340  Steve  Step1  0.666385\n",
       "5  0.260187  Steve  Step1  0.666385\n",
       "6  0.707831  Steve  Step1  0.666385\n",
       "7  0.932507  Steve  Step1  0.666385\n",
       "8  0.121939  Steve  Step1  0.666385\n",
       "9  0.006002  Steve  Step1  0.666385"
      ]
     },
     "execution_count": 70,
     "metadata": {},
     "output_type": "execute_result"
    }
   ],
   "source": [
    "pd.DataFrame({\n",
    "    \"time\": times,\n",
    "    \"name\": test.name,\n",
    "    'task': test.task,\n",
    "    'mean': test.avg\n",
    "})"
   ]
  },
  {
   "cell_type": "code",
   "execution_count": null,
   "metadata": {},
   "outputs": [],
   "source": []
  }
 ],
 "metadata": {
  "kernelspec": {
   "display_name": "Python 3",
   "language": "python",
   "name": "python3"
  },
  "language_info": {
   "codemirror_mode": {
    "name": "ipython",
    "version": 3
   },
   "file_extension": ".py",
   "mimetype": "text/x-python",
   "name": "python",
   "nbconvert_exporter": "python",
   "pygments_lexer": "ipython3",
   "version": "3.7.6"
  }
 },
 "nbformat": 4,
 "nbformat_minor": 4
}

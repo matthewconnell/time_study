{
 "cells": [
  {
   "cell_type": "code",
   "execution_count": 19,
   "metadata": {},
   "outputs": [],
   "source": [
    "%matplotlib inline\n",
    "\n",
    "import time\n",
    "import pandas as pd\n",
    "import numpy as np\n",
    "import random\n",
    "import matplotlib.pyplot as plt\n",
    "\n",
    "from IPython.display import clear_output\n",
    "\n",
    "import altair as alt"
   ]
  },
  {
   "cell_type": "code",
   "execution_count": 22,
   "metadata": {},
   "outputs": [
    {
     "name": "stdout",
     "output_type": "stream",
     "text": [
      "Hello World!\n"
     ]
    }
   ],
   "source": [
    "for i in range(10):\n",
    "    clear_output(wait=True)\n",
    "    print(\"Hello World!\")"
   ]
  },
  {
   "cell_type": "code",
   "execution_count": 2,
   "metadata": {},
   "outputs": [],
   "source": [
    "class Observation():\n",
    "    \n",
    "    def __init__(self, name, task):\n",
    "        self.self = self\n",
    "        self.name = name\n",
    "        self.task = task\n",
    "    \n",
    "    def begin(self):\n",
    "    \n",
    "        self.start_time = time.time()\n",
    "        \n",
    "    def end(self):\n",
    "    \n",
    "        self.end_time = time.time()\n",
    "        self.duration = self.end_time - self.start_time\n",
    "        \n",
    "    def get_mean(self, times):\n",
    "        \n",
    "        self.avg = np.mean(times)"
   ]
  },
  {
   "cell_type": "code",
   "execution_count": 31,
   "metadata": {},
   "outputs": [
    {
     "data": {
      "image/png": "[encoded data removed]",
      "text/plain": [
       "<Figure size 432x288 with 1 Axes>"
      ]
     },
     "metadata": {
      "needs_background": "light"
     },
     "output_type": "display_data"
    }
   ],
   "source": [
    "test = Observation('Steve', 'Step1')\n",
    "times = []\n",
    "\n",
    "for i in range(25):\n",
    "    \n",
    "    test.begin()\n",
    "    time.sleep(2 * random.random())\n",
    "    test.end()\n",
    "    times.append(test.duration)\n",
    "    \n",
    "    test.get_mean(times)\n",
    "    \n",
    "    df = pd.DataFrame({\n",
    "    \"time\": times,\n",
    "    \"name\": test.name,\n",
    "    'task': test.task,\n",
    "    'mean': test.avg\n",
    "    }).reset_index()\n",
    "\n",
    "    fig, ax = plt.subplots()\n",
    "    ax.plot(df['index'], df['time'])\n",
    "    plt.hlines(test.avg, xmin=0, xmax=max(df['index']))\n",
    "    \n",
    "    clear_output(wait=True)\n",
    "\n",
    "    plt.show()"
   ]
  },
  {
   "cell_type": "code",
   "execution_count": 13,
   "metadata": {},
   "outputs": [
    {
     "data": {
      "text/html": [
       "\n",
       "<div id=\"altair-viz-689f961cedaa43b1918ca358f882e5d5\"></div>\n",
       "<script type=\"text/javascript\">\n",
       "  (function(spec, embedOpt){\n",
       "    let outputDiv = document.currentScript.previousElementSibling;\n",
       "    if (outputDiv.id !== \"altair-viz-689f961cedaa43b1918ca358f882e5d5\") {\n",
       "      outputDiv = document.getElementById(\"altair-viz-689f961cedaa43b1918ca358f882e5d5\");\n",
       "    }\n",
       "    const paths = {\n",
       "      \"vega\": \"https://cdn.jsdelivr.net/npm//vega@5?noext\",\n",
       "      \"vega-lib\": \"https://cdn.jsdelivr.net/npm//vega-lib?noext\",\n",
       "      \"vega-lite\": \"https://cdn.jsdelivr.net/npm//vega-lite@4.8.1?noext\",\n",
       "      \"vega-embed\": \"https://cdn.jsdelivr.net/npm//vega-embed@6?noext\",\n",
       "    };\n",
       "\n",
       "    function loadScript(lib) {\n",
       "      return new Promise(function(resolve, reject) {\n",
       "        var s = document.createElement('script');\n",
       "        s.src = paths[lib];\n",
       "        s.async = true;\n",
       "        s.onload = () => resolve(paths[lib]);\n",
       "        s.onerror = () => reject(`Error loading script: ${paths[lib]}`);\n",
       "        document.getElementsByTagName(\"head\")[0].appendChild(s);\n",
       "      });\n",
       "    }\n",
       "\n",
       "    function showError(err) {\n",
       "      outputDiv.innerHTML = `<div class=\"error\" style=\"color:red;\">${err}</div>`;\n",
       "      throw err;\n",
       "    }\n",
       "\n",
       "    function displayChart(vegaEmbed) {\n",
       "      vegaEmbed(outputDiv, spec, embedOpt)\n",
       "        .catch(err => showError(`Javascript Error: ${err.message}<br>This usually means there's a typo in your chart specification. See the javascript console for the full traceback.`));\n",
       "    }\n",
       "\n",
       "    if(typeof define === \"function\" && define.amd) {\n",
       "      requirejs.config({paths});\n",
       "      require([\"vega-embed\"], displayChart, err => showError(`Error loading script: ${err.message}`));\n",
       "    } else if (typeof vegaEmbed === \"function\") {\n",
       "      displayChart(vegaEmbed);\n",
       "    } else {\n",
       "      loadScript(\"vega\")\n",
       "        .then(() => loadScript(\"vega-lite\"))\n",
       "        .then(() => loadScript(\"vega-embed\"))\n",
       "        .catch(showError)\n",
       "        .then(() => displayChart(vegaEmbed));\n",
       "    }\n",
       "  })({\"config\": {\"view\": {\"continuousWidth\": 400, \"continuousHeight\": 300}}, \"data\": {\"name\": \"data-f90d53f4de6e26e7290e7e3c72078e4c\"}, \"mark\": \"line\", \"encoding\": {\"x\": {\"type\": \"quantitative\", \"field\": \"index\"}, \"y\": {\"type\": \"quantitative\", \"field\": \"time\"}}, \"$schema\": \"https://vega.github.io/schema/vega-lite/v4.8.1.json\", \"datasets\": {\"data-f90d53f4de6e26e7290e7e3c72078e4c\": [{\"index\": 0, \"time\": 0.3227510452270508, \"name\": \"Steve\", \"task\": \"Step1\", \"mean\": 1.2074573993682862}, {\"index\": 1, \"time\": 0.6980359554290771, \"name\": \"Steve\", \"task\": \"Step1\", \"mean\": 1.2074573993682862}, {\"index\": 2, \"time\": 1.0313830375671387, \"name\": \"Steve\", \"task\": \"Step1\", \"mean\": 1.2074573993682862}, {\"index\": 3, \"time\": 1.3350872993469238, \"name\": \"Steve\", \"task\": \"Step1\", \"mean\": 1.2074573993682862}, {\"index\": 4, \"time\": 1.4787049293518066, \"name\": \"Steve\", \"task\": \"Step1\", \"mean\": 1.2074573993682862}, {\"index\": 5, \"time\": 1.4089951515197754, \"name\": \"Steve\", \"task\": \"Step1\", \"mean\": 1.2074573993682862}, {\"index\": 6, \"time\": 1.9407670497894287, \"name\": \"Steve\", \"task\": \"Step1\", \"mean\": 1.2074573993682862}, {\"index\": 7, \"time\": 1.2825088500976562, \"name\": \"Steve\", \"task\": \"Step1\", \"mean\": 1.2074573993682862}, {\"index\": 8, \"time\": 1.5167438983917236, \"name\": \"Steve\", \"task\": \"Step1\", \"mean\": 1.2074573993682862}, {\"index\": 9, \"time\": 1.0595967769622803, \"name\": \"Steve\", \"task\": \"Step1\", \"mean\": 1.2074573993682862}]}}, {\"mode\": \"vega-lite\"});\n",
       "</script>"
      ],
      "text/plain": [
       "alt.Chart(...)"
      ]
     },
     "execution_count": 13,
     "metadata": {},
     "output_type": "execute_result"
    }
   ],
   "source": [
    "alt.Chart(df).mark_line().encode(\n",
    "    x = alt.X('index'),\n",
    "    y = alt.Y('time')\n",
    "    ## Add a line for the mean\n",
    "    ## Add a label for the worker and/or the task\n",
    "    )"
   ]
  },
  {
   "cell_type": "code",
   "execution_count": 8,
   "metadata": {},
   "outputs": [
    {
     "data": {
      "text/html": [
       "\n",
       "<div id=\"altair-viz-384a54fe5bdb4d9bade9707540d17887\"></div>\n",
       "<script type=\"text/javascript\">\n",
       "  (function(spec, embedOpt){\n",
       "    let outputDiv = document.currentScript.previousElementSibling;\n",
       "    if (outputDiv.id !== \"altair-viz-384a54fe5bdb4d9bade9707540d17887\") {\n",
       "      outputDiv = document.getElementById(\"altair-viz-384a54fe5bdb4d9bade9707540d17887\");\n",
       "    }\n",
       "    const paths = {\n",
       "      \"vega\": \"https://cdn.jsdelivr.net/npm//vega@5?noext\",\n",
       "      \"vega-lib\": \"https://cdn.jsdelivr.net/npm//vega-lib?noext\",\n",
       "      \"vega-lite\": \"https://cdn.jsdelivr.net/npm//vega-lite@4.8.1?noext\",\n",
       "      \"vega-embed\": \"https://cdn.jsdelivr.net/npm//vega-embed@6?noext\",\n",
       "    };\n",
       "\n",
       "    function loadScript(lib) {\n",
       "      return new Promise(function(resolve, reject) {\n",
       "        var s = document.createElement('script');\n",
       "        s.src = paths[lib];\n",
       "        s.async = true;\n",
       "        s.onload = () => resolve(paths[lib]);\n",
       "        s.onerror = () => reject(`Error loading script: ${paths[lib]}`);\n",
       "        document.getElementsByTagName(\"head\")[0].appendChild(s);\n",
       "      });\n",
       "    }\n",
       "\n",
       "    function showError(err) {\n",
       "      outputDiv.innerHTML = `<div class=\"error\" style=\"color:red;\">${err}</div>`;\n",
       "      throw err;\n",
       "    }\n",
       "\n",
       "    function displayChart(vegaEmbed) {\n",
       "      vegaEmbed(outputDiv, spec, embedOpt)\n",
       "        .catch(err => showError(`Javascript Error: ${err.message}<br>This usually means there's a typo in your chart specification. See the javascript console for the full traceback.`));\n",
       "    }\n",
       "\n",
       "    if(typeof define === \"function\" && define.amd) {\n",
       "      requirejs.config({paths});\n",
       "      require([\"vega-embed\"], displayChart, err => showError(`Error loading script: ${err.message}`));\n",
       "    } else if (typeof vegaEmbed === \"function\") {\n",
       "      displayChart(vegaEmbed);\n",
       "    } else {\n",
       "      loadScript(\"vega\")\n",
       "        .then(() => loadScript(\"vega-lite\"))\n",
       "        .then(() => loadScript(\"vega-embed\"))\n",
       "        .catch(showError)\n",
       "        .then(() => displayChart(vegaEmbed));\n",
       "    }\n",
       "  })({\"config\": {\"view\": {\"continuousWidth\": 400, \"continuousHeight\": 300}}, \"data\": {\"name\": \"data-acd2115f2d989e712e6db0b9cd8d4d1d\"}, \"mark\": \"line\", \"encoding\": {\"x\": {\"type\": \"quantitative\", \"field\": \"index\"}, \"y\": {\"type\": \"quantitative\", \"field\": \"time\"}}, \"$schema\": \"https://vega.github.io/schema/vega-lite/v4.8.1.json\", \"datasets\": {\"data-acd2115f2d989e712e6db0b9cd8d4d1d\": [{\"index\": 0, \"time\": 1.06868314743042, \"name\": \"Steve\", \"task\": \"Step1\", \"mean\": 1.312226915359497}, {\"index\": 1, \"time\": 1.0091400146484375, \"name\": \"Steve\", \"task\": \"Step1\", \"mean\": 1.312226915359497}, {\"index\": 2, \"time\": 0.672623872756958, \"name\": \"Steve\", \"task\": \"Step1\", \"mean\": 1.312226915359497}, {\"index\": 3, \"time\": 1.8112378120422363, \"name\": \"Steve\", \"task\": \"Step1\", \"mean\": 1.312226915359497}, {\"index\": 4, \"time\": 0.22089290618896484, \"name\": \"Steve\", \"task\": \"Step1\", \"mean\": 1.312226915359497}, {\"index\": 5, \"time\": 1.972977876663208, \"name\": \"Steve\", \"task\": \"Step1\", \"mean\": 1.312226915359497}, {\"index\": 6, \"time\": 1.7583277225494385, \"name\": \"Steve\", \"task\": \"Step1\", \"mean\": 1.312226915359497}, {\"index\": 7, \"time\": 1.778014898300171, \"name\": \"Steve\", \"task\": \"Step1\", \"mean\": 1.312226915359497}, {\"index\": 8, \"time\": 0.975383996963501, \"name\": \"Steve\", \"task\": \"Step1\", \"mean\": 1.312226915359497}, {\"index\": 9, \"time\": 1.8549869060516357, \"name\": \"Steve\", \"task\": \"Step1\", \"mean\": 1.312226915359497}]}}, {\"mode\": \"vega-lite\"});\n",
       "</script>"
      ],
      "text/plain": [
       "alt.Chart(...)"
      ]
     },
     "execution_count": 8,
     "metadata": {},
     "output_type": "execute_result"
    }
   ],
   "source": [
    "alt.Chart(df).mark_line().encode(\n",
    "    x = alt.X('index'),\n",
    "    y = alt.Y('time')\n",
    "    ## Add a line for the mean\n",
    "    ## Add a label for the worker and/or the task\n",
    ")"
   ]
  },
  {
   "cell_type": "code",
   "execution_count": null,
   "metadata": {},
   "outputs": [],
   "source": []
  },
  {
   "cell_type": "code",
   "execution_count": null,
   "metadata": {},
   "outputs": [],
   "source": []
  },
  {
   "cell_type": "code",
   "execution_count": null,
   "metadata": {},
   "outputs": [],
   "source": []
  },
  {
   "cell_type": "code",
   "execution_count": null,
   "metadata": {},
   "outputs": [],
   "source": []
  },
  {
   "cell_type": "markdown",
   "metadata": {},
   "source": [
    "---"
   ]
  },
  {
   "cell_type": "code",
   "execution_count": 47,
   "metadata": {},
   "outputs": [],
   "source": [
    "test = Observation('Pete', 'Step1')"
   ]
  },
  {
   "cell_type": "code",
   "execution_count": 48,
   "metadata": {},
   "outputs": [],
   "source": [
    "times = []"
   ]
  },
  {
   "cell_type": "code",
   "execution_count": 63,
   "metadata": {},
   "outputs": [],
   "source": [
    "test.begin()"
   ]
  },
  {
   "cell_type": "code",
   "execution_count": 64,
   "metadata": {},
   "outputs": [],
   "source": [
    "test.end()\n",
    "times.append(test.duration)"
   ]
  },
  {
   "cell_type": "code",
   "execution_count": 65,
   "metadata": {},
   "outputs": [],
   "source": [
    "test.get_mean(times)"
   ]
  },
  {
   "cell_type": "code",
   "execution_count": 66,
   "metadata": {},
   "outputs": [
    {
     "data": {
      "text/html": [
       "<div>\n",
       "<style scoped>\n",
       "    .dataframe tbody tr th:only-of-type {\n",
       "        vertical-align: middle;\n",
       "    }\n",
       "\n",
       "    .dataframe tbody tr th {\n",
       "        vertical-align: top;\n",
       "    }\n",
       "\n",
       "    .dataframe thead th {\n",
       "        text-align: right;\n",
       "    }\n",
       "</style>\n",
       "<table border=\"1\" class=\"dataframe\">\n",
       "  <thead>\n",
       "    <tr style=\"text-align: right;\">\n",
       "      <th></th>\n",
       "      <th>index</th>\n",
       "      <th>time</th>\n",
       "      <th>name</th>\n",
       "      <th>task</th>\n",
       "      <th>mean</th>\n",
       "    </tr>\n",
       "  </thead>\n",
       "  <tbody>\n",
       "    <tr>\n",
       "      <th>0</th>\n",
       "      <td>0</td>\n",
       "      <td>3.386963</td>\n",
       "      <td>Pete</td>\n",
       "      <td>Step1</td>\n",
       "      <td>2.015585</td>\n",
       "    </tr>\n",
       "    <tr>\n",
       "      <th>1</th>\n",
       "      <td>1</td>\n",
       "      <td>2.199482</td>\n",
       "      <td>Pete</td>\n",
       "      <td>Step1</td>\n",
       "      <td>2.015585</td>\n",
       "    </tr>\n",
       "    <tr>\n",
       "      <th>2</th>\n",
       "      <td>2</td>\n",
       "      <td>1.775689</td>\n",
       "      <td>Pete</td>\n",
       "      <td>Step1</td>\n",
       "      <td>2.015585</td>\n",
       "    </tr>\n",
       "    <tr>\n",
       "      <th>3</th>\n",
       "      <td>3</td>\n",
       "      <td>1.913142</td>\n",
       "      <td>Pete</td>\n",
       "      <td>Step1</td>\n",
       "      <td>2.015585</td>\n",
       "    </tr>\n",
       "    <tr>\n",
       "      <th>4</th>\n",
       "      <td>4</td>\n",
       "      <td>1.989620</td>\n",
       "      <td>Pete</td>\n",
       "      <td>Step1</td>\n",
       "      <td>2.015585</td>\n",
       "    </tr>\n",
       "    <tr>\n",
       "      <th>5</th>\n",
       "      <td>5</td>\n",
       "      <td>1.877415</td>\n",
       "      <td>Pete</td>\n",
       "      <td>Step1</td>\n",
       "      <td>2.015585</td>\n",
       "    </tr>\n",
       "    <tr>\n",
       "      <th>6</th>\n",
       "      <td>6</td>\n",
       "      <td>1.544070</td>\n",
       "      <td>Pete</td>\n",
       "      <td>Step1</td>\n",
       "      <td>2.015585</td>\n",
       "    </tr>\n",
       "    <tr>\n",
       "      <th>7</th>\n",
       "      <td>7</td>\n",
       "      <td>1.438297</td>\n",
       "      <td>Pete</td>\n",
       "      <td>Step1</td>\n",
       "      <td>2.015585</td>\n",
       "    </tr>\n",
       "  </tbody>\n",
       "</table>\n",
       "</div>"
      ],
      "text/plain": [
       "   index      time  name   task      mean\n",
       "0      0  3.386963  Pete  Step1  2.015585\n",
       "1      1  2.199482  Pete  Step1  2.015585\n",
       "2      2  1.775689  Pete  Step1  2.015585\n",
       "3      3  1.913142  Pete  Step1  2.015585\n",
       "4      4  1.989620  Pete  Step1  2.015585\n",
       "5      5  1.877415  Pete  Step1  2.015585\n",
       "6      6  1.544070  Pete  Step1  2.015585\n",
       "7      7  1.438297  Pete  Step1  2.015585"
      ]
     },
     "execution_count": 66,
     "metadata": {},
     "output_type": "execute_result"
    }
   ],
   "source": [
    "df = pd.DataFrame({\n",
    "    \"time\": times,\n",
    "    \"name\": test.name,\n",
    "    'task': test.task,\n",
    "    'mean': test.avg\n",
    "}).reset_index()\n",
    "\n",
    "df"
   ]
  },
  {
   "cell_type": "code",
   "execution_count": 67,
   "metadata": {},
   "outputs": [
    {
     "data": {
      "text/html": [
       "\n",
       "<div id=\"altair-viz-0ae561b0fa3046f584c49c892e915d0d\"></div>\n",
       "<script type=\"text/javascript\">\n",
       "  (function(spec, embedOpt){\n",
       "    let outputDiv = document.currentScript.previousElementSibling;\n",
       "    if (outputDiv.id !== \"altair-viz-0ae561b0fa3046f584c49c892e915d0d\") {\n",
       "      outputDiv = document.getElementById(\"altair-viz-0ae561b0fa3046f584c49c892e915d0d\");\n",
       "    }\n",
       "    const paths = {\n",
       "      \"vega\": \"https://cdn.jsdelivr.net/npm//vega@5?noext\",\n",
       "      \"vega-lib\": \"https://cdn.jsdelivr.net/npm//vega-lib?noext\",\n",
       "      \"vega-lite\": \"https://cdn.jsdelivr.net/npm//vega-lite@4.8.1?noext\",\n",
       "      \"vega-embed\": \"https://cdn.jsdelivr.net/npm//vega-embed@6?noext\",\n",
       "    };\n",
       "\n",
       "    function loadScript(lib) {\n",
       "      return new Promise(function(resolve, reject) {\n",
       "        var s = document.createElement('script');\n",
       "        s.src = paths[lib];\n",
       "        s.async = true;\n",
       "        s.onload = () => resolve(paths[lib]);\n",
       "        s.onerror = () => reject(`Error loading script: ${paths[lib]}`);\n",
       "        document.getElementsByTagName(\"head\")[0].appendChild(s);\n",
       "      });\n",
       "    }\n",
       "\n",
       "    function showError(err) {\n",
       "      outputDiv.innerHTML = `<div class=\"error\" style=\"color:red;\">${err}</div>`;\n",
       "      throw err;\n",
       "    }\n",
       "\n",
       "    function displayChart(vegaEmbed) {\n",
       "      vegaEmbed(outputDiv, spec, embedOpt)\n",
       "        .catch(err => showError(`Javascript Error: ${err.message}<br>This usually means there's a typo in your chart specification. See the javascript console for the full traceback.`));\n",
       "    }\n",
       "\n",
       "    if(typeof define === \"function\" && define.amd) {\n",
       "      requirejs.config({paths});\n",
       "      require([\"vega-embed\"], displayChart, err => showError(`Error loading script: ${err.message}`));\n",
       "    } else if (typeof vegaEmbed === \"function\") {\n",
       "      displayChart(vegaEmbed);\n",
       "    } else {\n",
       "      loadScript(\"vega\")\n",
       "        .then(() => loadScript(\"vega-lite\"))\n",
       "        .then(() => loadScript(\"vega-embed\"))\n",
       "        .catch(showError)\n",
       "        .then(() => displayChart(vegaEmbed));\n",
       "    }\n",
       "  })({\"config\": {\"view\": {\"continuousWidth\": 400, \"continuousHeight\": 300}}, \"layer\": [{\"mark\": \"line\", \"encoding\": {\"color\": {\"type\": \"nominal\", \"field\": \"name\"}, \"x\": {\"type\": \"quantitative\", \"axis\": {\"title\": \"instance\"}, \"field\": \"index\"}, \"y\": {\"type\": \"quantitative\", \"axis\": {\"title\": \"Time taken\"}, \"field\": \"time\"}}}, {\"mark\": {\"type\": \"rule\", \"color\": \"red\"}, \"encoding\": {\"y\": {\"type\": \"quantitative\", \"aggregate\": \"mean\", \"field\": \"time\"}}}], \"data\": {\"name\": \"data-28031c20e2d4852ebc5c195418e85001\"}, \"$schema\": \"https://vega.github.io/schema/vega-lite/v4.8.1.json\", \"datasets\": {\"data-28031c20e2d4852ebc5c195418e85001\": [{\"index\": 0, \"time\": 3.386962890625, \"name\": \"Pete\", \"task\": \"Step1\", \"mean\": 2.0155847370624542}, {\"index\": 1, \"time\": 2.1994822025299072, \"name\": \"Pete\", \"task\": \"Step1\", \"mean\": 2.0155847370624542}, {\"index\": 2, \"time\": 1.7756891250610352, \"name\": \"Pete\", \"task\": \"Step1\", \"mean\": 2.0155847370624542}, {\"index\": 3, \"time\": 1.913142204284668, \"name\": \"Pete\", \"task\": \"Step1\", \"mean\": 2.0155847370624542}, {\"index\": 4, \"time\": 1.9896197319030762, \"name\": \"Pete\", \"task\": \"Step1\", \"mean\": 2.0155847370624542}, {\"index\": 5, \"time\": 1.8774151802062988, \"name\": \"Pete\", \"task\": \"Step1\", \"mean\": 2.0155847370624542}, {\"index\": 6, \"time\": 1.544069766998291, \"name\": \"Pete\", \"task\": \"Step1\", \"mean\": 2.0155847370624542}, {\"index\": 7, \"time\": 1.4382967948913574, \"name\": \"Pete\", \"task\": \"Step1\", \"mean\": 2.0155847370624542}]}}, {\"mode\": \"vega-lite\"});\n",
       "</script>"
      ],
      "text/plain": [
       "alt.LayerChart(...)"
      ]
     },
     "execution_count": 67,
     "metadata": {},
     "output_type": "execute_result"
    }
   ],
   "source": [
    "chart = alt.Chart(df).mark_line().encode(\n",
    "    x = alt.X('index:Q', axis = alt.Axis(title=\"instance\")),\n",
    "    y = alt.Y('time:Q', axis = alt.Axis(title=\"Time taken\")),\n",
    "    color = alt.Color('name')\n",
    "    ## Add a label for the worker and/or the task\n",
    ")\n",
    "\n",
    "rule = alt.Chart(df).mark_rule(color='red').encode(\n",
    "    y='mean(time):Q'\n",
    ")\n",
    "\n",
    "chart + rule"
   ]
  },
  {
   "cell_type": "code",
   "execution_count": null,
   "metadata": {},
   "outputs": [],
   "source": []
  }
 ],
 "metadata": {
  "kernelspec": {
   "display_name": "Python 3",
   "language": "python",
   "name": "python3"
  },
  "language_info": {
   "codemirror_mode": {
    "name": "ipython",
    "version": 3
   },
   "file_extension": ".py",
   "mimetype": "text/x-python",
   "name": "python",
   "nbconvert_exporter": "python",
   "pygments_lexer": "ipython3",
   "version": "3.7.6"
  }
 },
 "nbformat": 4,
 "nbformat_minor": 4
}
